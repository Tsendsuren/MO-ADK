{
 "cells": [
  {
   "cell_type": "code",
   "execution_count": 1,
   "metadata": {},
   "outputs": [
    {
     "data": {
      "image/png": "[encoded data removed]",
      "text/plain": [
       "<matplotlib.figure.Figure at 0x10ff0df90>"
      ]
     },
     "metadata": {},
     "output_type": "display_data"
    }
   ],
   "source": [
    "#!/usr/bin/env python2\n",
    "# -*- coding: utf-8 -*-\n",
    "\"\"\"\n",
    "Created on Sat Jan 13 00:20:43 2018\n",
    "\n",
    "@author: Tsendee\n",
    "\"\"\"\n",
    "\n",
    "import math\n",
    "from scipy.special import factorial\n",
    "import numpy as np\n",
    "import matplotlib.pyplot as plt\n",
    "\n",
    "m = 0\n",
    "l = np.array([0,2,4]) # for H2plus\n",
    "Cl = np.array([4.37, 0.05, 0.00]) # for H2plus\n",
    "\n",
    "#Cl = np.array([2.02,0.78,0.04]) # for N2\n",
    "\n",
    "\n",
    "Qlm = (-1)**m*np.sqrt(factorial((2*l+1)*(l+m))/(2*factorial(l-m)))\n",
    "Bm = np.sum(Cl*Qlm) \n",
    "\n",
    "Ip = 29.99/27.211 # eV to atomic unit conversion, Ip = 15.58 eV (N2)\n",
    "k = np.sqrt(2*Ip)\n",
    "Zc = 1\n",
    "\n",
    "F = np.arange(0.065,1,0.01)\n",
    "\n",
    "#Fpeak = 1;\n",
    "#t = 1e-15*np.arange(-10,10,0.1)\n",
    "#tau = 5e-15;\n",
    "#c = 3e-8\n",
    "#lambd = 800e-9\n",
    "#omega = 2*np.pi*c/lambd\n",
    "#F = Fpeak*np.exp(-2*np.log(2)*(t/tau)**2)*np.exp(omega*t)\n",
    "\n",
    "A = ((Bm**2)/((2**m)*math.factorial(m)))\n",
    "B = (1/k**(2*Zc/k-1))*((2*k**3/F)**((2*Zc/k)-m-1))\n",
    "C = np.exp(-(2*k**3)/(3*F))\n",
    "\n",
    "Wstat = 1e16*A*B*C\n",
    "Wfr = (3*F/(np.pi*k**3))**0.5*Wstat\n",
    "\n",
    "#Prob = 1-np.sum(np.exp(-Wstat*t))\n",
    "\n",
    "plt.loglog(F,Wstat,'blue',linewidth=2)\n",
    "\n",
    "plt.xlabel('F (field strength)')\n",
    "plt.ylabel('Ionization rate (s$^{-1}$)')\n",
    "plt.title('Ionization rate for H$_{2}^{+}$')\n",
    "plt.grid(which='both',axis='both')\n",
    "\n",
    "plt.savefig(\"MO-ADK model.pdf\", dpi=1600)\n",
    "plt.show()"
   ]
  },
  {
   "cell_type": "code",
   "execution_count": null,
   "metadata": {
    "collapsed": true
   },
   "outputs": [],
   "source": []
  }
 ],
 "metadata": {
  "kernelspec": {
   "display_name": "Python 2",
   "language": "python",
   "name": "python2"
  },
  "language_info": {
   "codemirror_mode": {
    "name": "ipython",
    "version": 2
   },
   "file_extension": ".py",
   "mimetype": "text/x-python",
   "name": "python",
   "nbconvert_exporter": "python",
   "pygments_lexer": "ipython2",
   "version": "2.7.13"
  }
 },
 "nbformat": 4,
 "nbformat_minor": 2
}
